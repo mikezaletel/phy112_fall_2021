{
 "cells": [
  {
   "cell_type": "markdown",
   "metadata": {},
   "source": [
    "# HW 7 problems"
   ],
   "id": "0"
  },
  {
   "cell_type": "markdown",
   "metadata": {},
   "source": [
    "## Question 1: Thermal radiation"
   ],
   "id": "1"
  },
  {
   "cell_type": "markdown",
   "metadata": {},
   "source": [
    "### Learning objectives\n",
    "In this question you will:\n",
    "\n",
    "- understand and visualise the shape of the blackbody spectrum\n",
    "- appreciate the importance of thermal radiation to everyday life\n"
   ],
   "id": "2"
  },
  {
   "cell_type": "markdown",
   "metadata": {},
   "source": [
    "### 1a. "
   ],
   "id": "3"
  },
  {
   "cell_type": "markdown",
   "metadata": {
    "flags": [
     "problems",
     "solutions"
    ]
   },
   "source": [
    "Recall that thermal radiation at a temperature $T$ follows the Planck disitribution, $$p(\\nu;T)\\propto\\frac{\\nu^3}{e^{\\beta h\\nu}-1}.$$ Compute  ${h\\nu_{\\rm peak}\\over k_BT},$ where $\\nu_{\\rm peak}$ is the peak frequency, to at least 5 significant figures. \n",
    "\n",
    "Transform $p(\\nu)$ to $p(\\lambda)$ and compute ${k_BT\\lambda_{\\rm peak}\\over hc}$. Is $\\lambda_{\\rm peak} = \\frac{c}{\\nu_{\\rm peak}}$? Why or why not? \n",
    "\n",
    "(Hint: use the [`scipy.optimize` module](https://docs.scipy.org/doc/scipy/reference/optimize.html). See the relevant tutorial: [GitHub](https://github.com/berkeley-physics/Python-Tutorials/blob/master/3%20-%20Specific%20topics/Solving%20equations.ipynb), [DataHub](https://datahub.berkeley.edu/hub/user-redirect/git-pull?repo=https%3A%2F%2Fgithub.com%2Fberkeley-physics%2FPython-Tutorials&urlpath=tree%2FPython-Tutorials%2F3+-+Specific+topics%2FSolving+equations.ipynb&branch=master). You might also find the [`scipy.constants` module](https://docs.scipy.org/doc/scipy/reference/constants.html) helpful.)"
   ],
   "id": "4"
  },
  {
   "cell_type": "code",
   "metadata": {},
   "source": [
    "#Write your answer here"
   ],
   "outputs": [],
   "execution_count": null,
   "id": "5"
  },
  {
   "cell_type": "markdown",
   "metadata": {},
   "source": [
    "### 1b. "
   ],
   "id": "6"
  },
  {
   "cell_type": "code",
   "execution_count": 5,
   "metadata": {
    "flags": [
     "problems",
     "solutions"
    ]
   },
   "outputs": [
    {
     "name": "stderr",
     "output_type": "stream",
     "text": [
      "<ipython-input-5-beb7fd8d4c0c>:10: RuntimeWarning: overflow encountered in exp\n",
      "  p_nu = x**3/(np.exp(x)-1)\n"
     ]
    },
    {
     "data": {
      "image/png": "[encoded data removed]",
      "text/plain": [
       "<Figure size 432x288 with 2 Axes>"
      ]
     },
     "metadata": {
      "needs_background": "light"
     },
     "output_type": "display_data"
    }
   ],
   "source": [
    "import numpy as np\n",
    "from scipy import constants\n",
    "%matplotlib inline\n",
    "from matplotlib import pyplot as plt\n",
    "\n",
    "def plot_bb(log_temp=np.log10(300)):\n",
    "    T = 10**log_temp\n",
    "    nu = np.logspace(5,20,1000)\n",
    "    x = constants.h*nu/(constants.k*T)\n",
    "    p_nu = x**3/(np.exp(x)-1) \n",
    "    \n",
    "    ps = [p_nu, p_nu*nu, p_nu*nu**2]\n",
    "    for i in range(3): #normalise each distirbution to 1\n",
    "        ps[i] /= np.amax(ps[i])\n",
    "        \n",
    "    plt.loglog(nu, ps[0], label=r\"$p(\\nu)$\")\n",
    "    plt.loglog(nu, ps[1], label=r\"$p(\\log\\,\\nu)=p(\\log\\,\\lambda)$\")\n",
    "    plt.loglog(nu, ps[2], label=r\"$p(\\lambda)$\")\n",
    "    \n",
    "    plt.ylim(1e-10,2)\n",
    "    plt.legend(frameon=False)\n",
    "    plt.xlabel(r\"$\\nu$ / Hz\")\n",
    "    plt.ylabel(r\"probability density (arbitrary normalisation)\")\n",
    "    ax = plt.gca()\n",
    "    ax.set_xticks(10**np.arange(6,20,3)) #set ticks at intervals of 1000\n",
    "    ax2 = ax.twiny() #add wavelength axis on top\n",
    "    x_bounds = constants.c/np.array(ax.get_xlim())\n",
    "    ax2.set_xlim(x_bounds)\n",
    "    ax2.set_xscale(\"log\")\n",
    "    ax2.set_xlabel(r\"$\\lambda$ / m\")\n",
    "    tickpows = np.log10(x_bounds)/3\n",
    "    ax2.set_xticks(10**(3*np.arange(*np.ceil(tickpows)[::-1])))\n",
    "    Tpow = int(np.floor(np.log10(T)))\n",
    "    if Tpow > 2:\n",
    "        plt.title(r\"$T = %.2f\\times 10^{%d}$ K\"%(T/10**Tpow,Tpow))\n",
    "    else:\n",
    "        plt.title(r\"$T = %.2f$ K\"%T)\n",
    "    \n",
    "plot_bb()"
   ],
   "id": "7"
  },
  {
   "cell_type": "code",
   "execution_count": 6,
   "metadata": {
    "flags": [
     "problems",
     "solutions"
    ]
   },
   "outputs": [
    {
     "data": {
      "application/vnd.jupyter.widget-view+json": {
       "model_id": "823034072bdd44b2a897234a90e5ed7b",
       "version_major": 2,
       "version_minor": 0
      },
      "text/plain": [
       "interactive(children=(FloatSlider(value=2.4771212547196626, description='log_temp', max=8.0, min=-3.0), Output\u2026"
      ]
     },
     "metadata": {},
     "output_type": "display_data"
    },
    {
     "data": {
      "text/plain": [
       "<function __main__.plot_bb(log_temp=2.4771212547196626)>"
      ]
     },
     "execution_count": 6,
     "metadata": {},
     "output_type": "execute_result"
    }
   ],
   "source": [
    "from ipywidgets import interact,interact_manual\n",
    "\n",
    "interact(plot_bb,log_temp=(-3,8,0.1))"
   ],
   "id": "8"
  },
  {
   "cell_type": "markdown",
   "metadata": {
    "flags": [
     "problems",
     "solutions"
    ]
   },
   "source": [
    "The above cell contains an interactive plot of the blackbody spectrum as a function of temperature. Feel free to play around with it. Compare the axes to a chart of the EM spectrum, which can be easily found online.\n",
    "\n",
    "At what frequency range do everyday objects radiate the most? At what temperature do objects radiate visible light the most? Assuming our eyes have evolved to match the spectrum of the sun (ignoring the scattering properties of the atmosphere and environment), roughly (order-of-magnitude) estimate the temperature of the sun."
   ],
   "id": "9"
  },
  {
   "cell_type": "markdown",
   "metadata": {},
   "source": [
    "Write your answer here"
   ],
   "id": "10"
  },
  {
   "cell_type": "markdown",
   "metadata": {},
   "source": [
    "### 1c. "
   ],
   "id": "11"
  },
  {
   "cell_type": "markdown",
   "metadata": {
    "flags": [
     "problems",
     "solutions"
    ]
   },
   "source": [
    "In practice, the radiation from objects aren't visible to us unless they are extremely hot because they don't emit enough visible light for us to see them, i.e. they aren't bright enough. The apparent colour of an object, however, does not depend on the total brightness, but the relative intensities of red, green, and blue light. \n",
    "\n",
    "Let's model the eye cone cells and predict the apparent colour of objects as a function of temperature. A simple model is to assume the cones have flat frequency responses in certain ranges, i.e. the energy of all incident photons in the range are converted (to electric energy) with certainty (and 100% efficiency). Assume that red cones respond to 525-625 nm, green cones to 485-585 nm, and blue cones to 410-480 nm, and that the cones correspond exactly to RGB values used for display. (Feel free to improve this simple model.) \n",
    "\n",
    "Plot the apparent colour as a function of temperature, ignoring total brightness. Is a blue star hotter or colder than a red star?\n",
    "\n",
    "(Hint: use the [`scipy.integrate` module](https://docs.scipy.org/doc/scipy/reference/tutorial/integrate.html) for numerical integration, see the tutorial: [GitHub](https://github.com/berkeley-physics/Python-Tutorials/blob/master/3%20-%20Specific%20topics/Numerical%20integration.ipynb), [DataHub](https://datahub.berkeley.edu/hub/user-redirect/git-pull?repo=https%3A%2F%2Fgithub.com%2Fberkeley-physics%2FPython-Tutorials&urlpath=tree%2FPython-Tutorials%2F3+-+Specific+topics%2FNumerical+integration.ipynb&branch=master))."
   ],
   "id": "12"
  },
  {
   "cell_type": "markdown",
   "metadata": {
    "flags": [
     "problems",
     "solutions"
    ]
   },
   "source": [
    "The following cells gives an example of how to make a 1-d colour plot, with example $R,G,B$ arrays normalised to $[0,1]$."
   ],
   "id": "13"
  },
  {
   "cell_type": "code",
   "execution_count": 9,
   "metadata": {
    "flags": [
     "problems",
     "solutions"
    ]
   },
   "outputs": [
    {
     "data": {
      "text/plain": [
       "Text(0.5, 0, '$x$')"
      ]
     },
     "execution_count": 9,
     "metadata": {},
     "output_type": "execute_result"
    },
    {
     "data": {
      "image/png": "[encoded data removed]",
      "text/plain": [
       "<Figure size 432x288 with 1 Axes>"
      ]
     },
     "metadata": {
      "needs_background": "light"
     },
     "output_type": "display_data"
    }
   ],
   "source": [
    "x = np.linspace(-1,1,1000)\n",
    "\n",
    "#fake 1d rgb data\n",
    "r = (1+x)/2\n",
    "g = x**2\n",
    "b = (1-x)/2\n",
    "\n",
    "plt.plot(x,r,c=\"r\")\n",
    "plt.plot(x,g,c=\"g\")\n",
    "plt.plot(x,b,c=\"b\")\n",
    "plt.xlabel(\"$x$\")"
   ],
   "id": "14"
  },
  {
   "cell_type": "code",
   "execution_count": 10,
   "metadata": {
    "flags": [
     "problems",
     "solutions"
    ]
   },
   "outputs": [
    {
     "data": {
      "text/plain": [
       "Text(0.5, 0, '$x$')"
      ]
     },
     "execution_count": 10,
     "metadata": {},
     "output_type": "execute_result"
    },
    {
     "data": {
      "image/png": "[encoded data removed]",
      "text/plain": [
       "<Figure size 432x288 with 1 Axes>"
      ]
     },
     "metadata": {
      "needs_background": "light"
     },
     "output_type": "display_data"
    }
   ],
   "source": [
    "rgb = np.array([r,g,b]) #create 1d RGB array with shape (3,N)\n",
    "rgb = rgb.T #make it (N,3), i.e. 1d array of length-N pixels (RGB arrays)\n",
    "rgb = rgb.reshape((1,-1,3)) #(1,N,3) array, i.e. 2d array of pixels with one pixel in vertical direction\n",
    "\n",
    "xticks = np.linspace(-1,1,11)\n",
    "plt.imshow(rgb,aspect=100)\n",
    "ax = plt.gca()\n",
    "ax.set_yticks([]) #removes y-axis ticks (and labels)\n",
    "ax.set_xticks((xticks+1)/2*len(x)) #sets x-axis ticks, in units of array index, from 0 to N\n",
    "ax.set_xticklabels([\"%.1f\"%v for v in xticks]) #sets labels for ticks\n",
    "ax.set_xlabel(\"$x$\")"
   ],
   "id": "15"
  },
  {
   "cell_type": "code",
   "metadata": {},
   "source": [
    "#Write your answer here"
   ],
   "outputs": [],
   "execution_count": null,
   "id": "16"
  }
 ],
 "metadata": {
  "kernelspec": {
   "display_name": "Python [default]",
   "language": "python",
   "name": "python3"
  },
  "language_info": {
   "codemirror_mode": {
    "name": "ipython",
    "version": 3
   },
   "file_extension": ".py",
   "mimetype": "text/x-python",
   "name": "python",
   "nbconvert_exporter": "python",
   "pygments_lexer": "ipython3",
   "version": "3.6.8"
  }
 },
 "nbformat": 4,
 "nbformat_minor": 5
}